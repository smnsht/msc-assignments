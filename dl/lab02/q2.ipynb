{
 "cells": [
  {
   "cell_type": "code",
   "execution_count": 1,
   "metadata": {},
   "outputs": [],
   "source": [
    "from sklearn.metrics import f1_score, precision_score, recall_score, classification_report\n",
    "import numpy as np\n",
    "\n"
   ]
  },
  {
   "cell_type": "code",
   "execution_count": 2,
   "metadata": {},
   "outputs": [],
   "source": [
    "# Confusion matrix (rows = actual, columns = predicted)\n",
    "confusion_matrix = np.array([\n",
    "    [50, 5, 10],  # Actual A\n",
    "    [7, 60, 8],   # Actual B\n",
    "    [4, 6, 80]    # Actual C\n",
    "])\n",
    "\n",
    "# Flatten the confusion matrix into true labels (y_true) and predicted labels (y_pred)\n",
    "y_true = []\n",
    "y_pred = []\n",
    "\n",
    "for actual_class, row in enumerate(confusion_matrix):\n",
    "    for predicted_class, count in enumerate(row):\n",
    "        y_true.extend([actual_class] * count)\n",
    "        y_pred.extend([predicted_class] * count)\n"
   ]
  },
  {
   "cell_type": "code",
   "execution_count": 6,
   "metadata": {},
   "outputs": [
    {
     "name": "stdout",
     "output_type": "stream",
     "text": [
      "F1-scores for each class: 0.8253342690634391\n",
      "\n",
      "Classification Report:\n",
      "              precision    recall  f1-score   support\n",
      "\n",
      "     Class A       0.82      0.77      0.79        65\n",
      "     Class B       0.85      0.80      0.82        75\n",
      "     Class C       0.82      0.89      0.85        90\n",
      "\n",
      "    accuracy                           0.83       230\n",
      "   macro avg       0.83      0.82      0.82       230\n",
      "weighted avg       0.83      0.83      0.83       230\n",
      "\n"
     ]
    }
   ],
   "source": [
    "# Calculate F1-scores for each class\n",
    "f1_scores = f1_score(y_true, y_pred, average='weighted')\n",
    "print(\"F1-scores for each class:\", f1_scores)\n",
    "\n",
    "# Calculate precision, recall, and F1-score for all classes\n",
    "print(\"\\nClassification Report:\")\n",
    "print(classification_report(y_true, y_pred, target_names=[\"Class A\", \"Class B\", \"Class C\"]))"
   ]
  }
 ],
 "metadata": {
  "kernelspec": {
   "display_name": ".venv",
   "language": "python",
   "name": "python3"
  },
  "language_info": {
   "codemirror_mode": {
    "name": "ipython",
    "version": 3
   },
   "file_extension": ".py",
   "mimetype": "text/x-python",
   "name": "python",
   "nbconvert_exporter": "python",
   "pygments_lexer": "ipython3",
   "version": "3.11.9"
  }
 },
 "nbformat": 4,
 "nbformat_minor": 2
}
