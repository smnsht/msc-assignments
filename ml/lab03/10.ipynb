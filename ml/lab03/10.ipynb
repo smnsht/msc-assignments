{
 "cells": [
  {
   "cell_type": "code",
   "execution_count": null,
   "metadata": {},
   "outputs": [],
   "source": [
    "import pandas as pd\n",
    "import statsmodels.api as sm\n",
    "\n",
    "from ISLP.models import (ModelSpec as MS)"
   ]
  },
  {
   "cell_type": "code",
   "execution_count": null,
   "metadata": {},
   "outputs": [],
   "source": [
    "yes_no = { 'Yes': 1, 'No': 0 }\n",
    "\n",
    "#\n",
    "# REPLACE 'Yes' with 1, and 'No' with 0\n",
    "#\n",
    "Carseats = pd.read_csv('Carseats.csv', converters = {\n",
    "    'Urban': lambda x: (yes_no[x]),\n",
    "    'US': lambda x: (yes_no[x])\n",
    "})\n",
    "\n",
    "y = Carseats['Sales']"
   ]
  },
  {
   "cell_type": "code",
   "execution_count": null,
   "metadata": {},
   "outputs": [],
   "source": [
    "# (a)\n",
    "\n",
    "X = MS(['Price', 'Urban', 'US']).fit_transform(Carseats)\n",
    "X\n",
    "\n",
    "model_a = sm.OLS(y, X)\n",
    "results1 = model_a.fit()\n",
    "results1.summary()"
   ]
  },
  {
   "cell_type": "markdown",
   "metadata": {},
   "source": [
    "(b)\n",
    "\n",
    "1. Price - low p-value means there is a correlation with 'Sales'. Negative slope means: as 'Price' increases, 'Sales' decreases\n",
    "2. Urban - high p-value means there is no correlation\n",
    "3. US - low p-value, correlation. Positive slope: if the store is in the US, the 'Sales' will increase"
   ]
  },
  {
   "cell_type": "markdown",
   "metadata": {},
   "source": [
    "(c)\n",
    "\n",
    "In columns 'Urban' and 'US' values 'Yes' and 'No' replaced with 1 and 0 \n",
    "\n",
    "`Sales = 13.0435 - 0.0545 * Price - 0.0219 * Urban + 1.20 * US`"
   ]
  },
  {
   "cell_type": "markdown",
   "metadata": {},
   "source": [
    "(d)\n",
    "\n",
    "'Price' and 'US'"
   ]
  },
  {
   "cell_type": "code",
   "execution_count": null,
   "metadata": {},
   "outputs": [],
   "source": [
    "# (e)\n",
    "\n",
    "X2 = MS(['Price', 'US']).fit_transform(Carseats)\n",
    "\n",
    "model_e = sm.OLS(y, X2)\n",
    "results2 = model_e.fit()\n",
    "results2.summary()"
   ]
  },
  {
   "cell_type": "markdown",
   "metadata": {},
   "source": [
    "(f)\n",
    "\n",
    "Both fit the data quite well - based on 'Df Residuals' and 'R-squared' metrics"
   ]
  },
  {
   "cell_type": "markdown",
   "metadata": {},
   "source": [
    "(g)\n",
    "\n",
    "intercept:  [11.790\t14.271]\n",
    "\n",
    "Price:      [-0.065\t-0.044]\n",
    "\n",
    "US:         [0.692\t1.708]\n"
   ]
  },
  {
   "cell_type": "code",
   "execution_count": null,
   "metadata": {},
   "outputs": [],
   "source": [
    "# (h)\n",
    "\n",
    "from matplotlib.pyplot import subplots\n",
    "\n",
    "\n",
    "# plot residuals\n",
    "fig, ax = subplots(figsize=(8, 8))\n",
    "resid_x = range(0, len(results2.resid))\n",
    "ax.scatter(resid_x, results2.resid);\n",
    "ax.set_xlabel('Residual ordinal (0 - 400)')\n",
    "ax.set_ylabel('Residual value')\n",
    "\n",
    "# all resuduals are between -6 and 6 (approx.) so not potential outliers are expected"
   ]
  }
 ],
 "metadata": {
  "kernelspec": {
   "display_name": "Python 3",
   "language": "python",
   "name": "python3"
  },
  "language_info": {
   "codemirror_mode": {
    "name": "ipython",
    "version": 3
   },
   "file_extension": ".py",
   "mimetype": "text/x-python",
   "name": "python",
   "nbconvert_exporter": "python",
   "pygments_lexer": "ipython3",
   "version": "3.11.9"
  }
 },
 "nbformat": 4,
 "nbformat_minor": 2
}
