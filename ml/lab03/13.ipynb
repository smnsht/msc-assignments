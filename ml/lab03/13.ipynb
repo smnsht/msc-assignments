{
 "cells": [
  {
   "cell_type": "code",
   "execution_count": null,
   "metadata": {},
   "outputs": [],
   "source": [
    "from numpy import random, ones\n",
    "\n",
    "import statsmodels.api as sm\n",
    "import matplotlib.pyplot as plt\n",
    "import pandas as pd\n",
    "\n",
    "random.seed(1)"
   ]
  },
  {
   "cell_type": "code",
   "execution_count": 45,
   "metadata": {},
   "outputs": [
    {
     "data": {
      "text/plain": [
       "array([ 1.62434536, -0.61175641, -0.52817175, -1.07296862,  0.86540763,\n",
       "       -2.3015387 ,  1.74481176, -0.7612069 ,  0.3190391 , -0.24937038,\n",
       "        1.46210794, -2.06014071, -0.3224172 , -0.38405435,  1.13376944,\n",
       "       -1.09989127, -0.17242821, -0.87785842,  0.04221375,  0.58281521,\n",
       "       -1.10061918,  1.14472371,  0.90159072,  0.50249434,  0.90085595,\n",
       "       -0.68372786, -0.12289023, -0.93576943, -0.26788808,  0.53035547,\n",
       "       -0.69166075, -0.39675353, -0.6871727 , -0.84520564, -0.67124613,\n",
       "       -0.0126646 , -1.11731035,  0.2344157 ,  1.65980218,  0.74204416,\n",
       "       -0.19183555, -0.88762896, -0.74715829,  1.6924546 ,  0.05080775,\n",
       "       -0.63699565,  0.19091548,  2.10025514,  0.12015895,  0.61720311,\n",
       "        0.30017032, -0.35224985, -1.1425182 , -0.34934272, -0.20889423,\n",
       "        0.58662319,  0.83898341,  0.93110208,  0.28558733,  0.88514116,\n",
       "       -0.75439794,  1.25286816,  0.51292982, -0.29809284,  0.48851815,\n",
       "       -0.07557171,  1.13162939,  1.51981682,  2.18557541, -1.39649634,\n",
       "       -1.44411381, -0.50446586,  0.16003707,  0.87616892,  0.31563495,\n",
       "       -2.02220122, -0.30620401,  0.82797464,  0.23009474,  0.76201118,\n",
       "       -0.22232814, -0.20075807,  0.18656139,  0.41005165,  0.19829972,\n",
       "        0.11900865, -0.67066229,  0.37756379,  0.12182127,  1.12948391,\n",
       "        1.19891788,  0.18515642, -0.37528495, -0.63873041,  0.42349435,\n",
       "        0.07734007, -0.34385368,  0.04359686, -0.62000084,  0.69803203])"
      ]
     },
     "execution_count": 45,
     "metadata": {},
     "output_type": "execute_result"
    }
   ],
   "source": [
    "# (a)\n",
    "\n",
    "x = random.normal(loc=0, scale=1,  size=100)\n",
    "x\n"
   ]
  },
  {
   "cell_type": "code",
   "execution_count": 46,
   "metadata": {},
   "outputs": [
    {
     "data": {
      "text/plain": [
       "array([-0.11178214,  0.30612693,  0.10087291,  0.14839463, -0.27372796,\n",
       "        0.04234561,  0.18513911, -0.23842515, -0.06655463,  0.00815364,\n",
       "       -0.34327933,  0.07878985,  0.21154016, -0.21487899,  0.08763649,\n",
       "       -0.32807085, -0.00967388, -0.40394309,  0.28035443,  0.10222513,\n",
       "       -0.00615424, -0.1937904 ,  0.31843898,  0.49177544, -0.46449547,\n",
       "        0.30904101,  0.40691269,  0.08450292, -0.29981701,  0.21583633,\n",
       "       -0.04523008, -0.15098016, -0.30751453,  0.13763437,  0.19820172,\n",
       "       -0.15588268,  0.13014408, -0.28608535,  0.20046526,  0.01164182,\n",
       "       -0.04664244, -0.02543647,  0.21722154,  0.18760291,  0.13236633,\n",
       "        0.0344253 ,  0.01945528,  0.15459507,  0.05812364,  0.17063785,\n",
       "       -0.07752919, -0.60870944,  0.25970615,  0.54674491,  0.11034111,\n",
       "       -0.02503881, -0.03411119, -0.02976355,  0.00435235, -0.28050468,\n",
       "       -0.12927361, -0.24925671,  0.06219979, -0.07416029,  0.12380283,\n",
       "       -0.04367579,  0.2465838 ,  0.05338348,  0.54767493, -0.47409023,\n",
       "       -0.16172917,  0.22537172,  0.63208143, -0.06215869,  0.01091725,\n",
       "       -0.05657856,  0.33286428, -0.07182697,  0.17001746, -0.0799504 ,\n",
       "       -0.31813969,  0.07838693,  0.1257962 ,  0.32330647, -0.02761176,\n",
       "       -0.15434052,  0.14069027,  0.06018427,  0.07016627, -0.01827818,\n",
       "        0.29008464,  0.09237318,  0.47616468,  0.27776417,  0.16476245,\n",
       "       -0.40685959,  0.15057982,  0.10507055,  0.20273792,  0.26111052])"
      ]
     },
     "execution_count": 46,
     "metadata": {},
     "output_type": "execute_result"
    }
   ],
   "source": [
    "# (b)\n",
    "\n",
    "eps = random.normal(loc=0, scale=0.25, size=100)\n",
    "eps\n"
   ]
  },
  {
   "cell_type": "code",
   "execution_count": 47,
   "metadata": {},
   "outputs": [
    {
     "data": {
      "text/plain": [
       "array([-0.29960946, -0.99975128, -1.16321297, -1.38808968, -0.84102415,\n",
       "       -2.10842374,  0.05754499, -1.6190286 , -0.90703508, -1.11653155,\n",
       "       -0.61222536, -1.95128051, -0.94966844, -1.40690616, -0.34547878,\n",
       "       -1.87801649, -1.09588798, -1.8428723 , -0.6985387 , -0.60636726,\n",
       "       -1.55646383, -0.62142855, -0.23076566, -0.25697739, -1.01406749,\n",
       "       -1.03282292, -0.65453242, -1.38338179, -1.43376105, -0.51898594,\n",
       "       -1.39106045, -1.34935692, -1.65110088, -1.28496845, -1.13742135,\n",
       "       -1.16221498, -1.42851109, -1.1688775 ,  0.03036635, -0.6173361 ,\n",
       "       -1.14256022, -1.46925095, -1.15635761,  0.03383021, -0.84222979,\n",
       "       -1.28407252, -0.88508698,  0.20472263, -0.88179688, -0.52076059,\n",
       "       -0.92744403, -1.78483436, -1.31155295, -0.62792645, -0.99410601,\n",
       "       -0.73172721, -0.61461948, -0.56421251, -0.85285399, -0.8379341 ,\n",
       "       -1.50647258, -0.62282263, -0.6813353 , -1.22320671, -0.6319381 ,\n",
       "       -1.08146165, -0.18760151, -0.18670812,  0.64046264, -2.1723384 ,\n",
       "       -1.88378607, -1.02686121, -0.28790004, -0.62407423, -0.83126528,\n",
       "       -2.06767917, -0.82023773, -0.65783964, -0.71493517, -0.69894481,\n",
       "       -1.42930376, -1.0219921 , -0.7809231 , -0.47166771, -0.9284619 ,\n",
       "       -1.09483619, -1.19464087, -0.75103383, -0.8689231 , -0.45353622,\n",
       "       -0.11045642, -0.81504861, -0.7114778 , -1.04160103, -0.62349037,\n",
       "       -1.36818955, -1.02134702, -0.87313102, -1.1072625 , -0.38987346])"
      ]
     },
     "execution_count": 47,
     "metadata": {},
     "output_type": "execute_result"
    }
   ],
   "source": [
    "# (c)\n",
    "\n",
    "Y = -1 + 0.5*x + eps\n",
    "Y\n",
    "\n",
    "# len(Y) = 100, the same as len(x) and len(eps)\n",
    "# b0 = -1, b1 = 0.5"
   ]
  },
  {
   "cell_type": "code",
   "execution_count": 48,
   "metadata": {},
   "outputs": [
    {
     "data": {
      "image/png": "[encoded data removed]",
      "text/plain": [
       "<Figure size 640x480 with 1 Axes>"
      ]
     },
     "metadata": {},
     "output_type": "display_data"
    }
   ],
   "source": [
    "# (d)\n",
    "\n",
    "plt.scatter(x, Y, marker='o');\n",
    "\n",
    "#  linear relationship between x and y with a positive slope"
   ]
  },
  {
   "cell_type": "code",
   "execution_count": 49,
   "metadata": {},
   "outputs": [
    {
     "data": {
      "text/html": [
       "<table class=\"simpletable\">\n",
       "<caption>OLS Regression Results</caption>\n",
       "<tr>\n",
       "  <th>Dep. Variable:</th>            <td>y</td>        <th>  R-squared:         </th> <td>   0.800</td>\n",
       "</tr>\n",
       "<tr>\n",
       "  <th>Model:</th>                   <td>OLS</td>       <th>  Adj. R-squared:    </th> <td>   0.798</td>\n",
       "</tr>\n",
       "<tr>\n",
       "  <th>Method:</th>             <td>Least Squares</td>  <th>  F-statistic:       </th> <td>   391.4</td>\n",
       "</tr>\n",
       "<tr>\n",
       "  <th>Date:</th>             <td>Sat, 07 Dec 2024</td> <th>  Prob (F-statistic):</th> <td>5.39e-36</td>\n",
       "</tr>\n",
       "<tr>\n",
       "  <th>Time:</th>                 <td>21:32:34</td>     <th>  Log-Likelihood:    </th> <td>  4.1908</td>\n",
       "</tr>\n",
       "<tr>\n",
       "  <th>No. Observations:</th>      <td>   100</td>      <th>  AIC:               </th> <td>  -4.382</td>\n",
       "</tr>\n",
       "<tr>\n",
       "  <th>Df Residuals:</th>          <td>    98</td>      <th>  BIC:               </th> <td>  0.8288</td>\n",
       "</tr>\n",
       "<tr>\n",
       "  <th>Df Model:</th>              <td>     1</td>      <th>                     </th>     <td> </td>   \n",
       "</tr>\n",
       "<tr>\n",
       "  <th>Covariance Type:</th>      <td>nonrobust</td>    <th>                     </th>     <td> </td>   \n",
       "</tr>\n",
       "</table>\n",
       "<table class=\"simpletable\">\n",
       "<tr>\n",
       "      <td></td>         <th>coef</th>     <th>std err</th>      <th>t</th>      <th>P>|t|</th>  <th>[0.025</th>    <th>0.975]</th>  \n",
       "</tr>\n",
       "<tr>\n",
       "  <th>intercept</th> <td>   -0.9632</td> <td>    0.023</td> <td>  -40.999</td> <td> 0.000</td> <td>   -1.010</td> <td>   -0.917</td>\n",
       "</tr>\n",
       "<tr>\n",
       "  <th>x</th>         <td>    0.5239</td> <td>    0.026</td> <td>   19.783</td> <td> 0.000</td> <td>    0.471</td> <td>    0.576</td>\n",
       "</tr>\n",
       "</table>\n",
       "<table class=\"simpletable\">\n",
       "<tr>\n",
       "  <th>Omnibus:</th>       <td> 0.898</td> <th>  Durbin-Watson:     </th> <td>   2.157</td>\n",
       "</tr>\n",
       "<tr>\n",
       "  <th>Prob(Omnibus):</th> <td> 0.638</td> <th>  Jarque-Bera (JB):  </th> <td>   0.561</td>\n",
       "</tr>\n",
       "<tr>\n",
       "  <th>Skew:</th>          <td>-0.172</td> <th>  Prob(JB):          </th> <td>   0.755</td>\n",
       "</tr>\n",
       "<tr>\n",
       "  <th>Kurtosis:</th>      <td> 3.127</td> <th>  Cond. No.          </th> <td>    1.15</td>\n",
       "</tr>\n",
       "</table><br/><br/>Notes:<br/>[1] Standard Errors assume that the covariance matrix of the errors is correctly specified."
      ],
      "text/latex": [
       "\\begin{center}\n",
       "\\begin{tabular}{lclc}\n",
       "\\toprule\n",
       "\\textbf{Dep. Variable:}    &        y         & \\textbf{  R-squared:         } &     0.800   \\\\\n",
       "\\textbf{Model:}            &       OLS        & \\textbf{  Adj. R-squared:    } &     0.798   \\\\\n",
       "\\textbf{Method:}           &  Least Squares   & \\textbf{  F-statistic:       } &     391.4   \\\\\n",
       "\\textbf{Date:}             & Sat, 07 Dec 2024 & \\textbf{  Prob (F-statistic):} &  5.39e-36   \\\\\n",
       "\\textbf{Time:}             &     21:32:34     & \\textbf{  Log-Likelihood:    } &    4.1908   \\\\\n",
       "\\textbf{No. Observations:} &         100      & \\textbf{  AIC:               } &    -4.382   \\\\\n",
       "\\textbf{Df Residuals:}     &          98      & \\textbf{  BIC:               } &    0.8288   \\\\\n",
       "\\textbf{Df Model:}         &           1      & \\textbf{                     } &             \\\\\n",
       "\\textbf{Covariance Type:}  &    nonrobust     & \\textbf{                     } &             \\\\\n",
       "\\bottomrule\n",
       "\\end{tabular}\n",
       "\\begin{tabular}{lcccccc}\n",
       "                   & \\textbf{coef} & \\textbf{std err} & \\textbf{t} & \\textbf{P$> |$t$|$} & \\textbf{[0.025} & \\textbf{0.975]}  \\\\\n",
       "\\midrule\n",
       "\\textbf{intercept} &      -0.9632  &        0.023     &   -40.999  &         0.000        &       -1.010    &       -0.917     \\\\\n",
       "\\textbf{x}         &       0.5239  &        0.026     &    19.783  &         0.000        &        0.471    &        0.576     \\\\\n",
       "\\bottomrule\n",
       "\\end{tabular}\n",
       "\\begin{tabular}{lclc}\n",
       "\\textbf{Omnibus:}       &  0.898 & \\textbf{  Durbin-Watson:     } &    2.157  \\\\\n",
       "\\textbf{Prob(Omnibus):} &  0.638 & \\textbf{  Jarque-Bera (JB):  } &    0.561  \\\\\n",
       "\\textbf{Skew:}          & -0.172 & \\textbf{  Prob(JB):          } &    0.755  \\\\\n",
       "\\textbf{Kurtosis:}      &  3.127 & \\textbf{  Cond. No.          } &     1.15  \\\\\n",
       "\\bottomrule\n",
       "\\end{tabular}\n",
       "%\\caption{OLS Regression Results}\n",
       "\\end{center}\n",
       "\n",
       "Notes: \\newline\n",
       " [1] Standard Errors assume that the covariance matrix of the errors is correctly specified."
      ],
      "text/plain": [
       "<class 'statsmodels.iolib.summary.Summary'>\n",
       "\"\"\"\n",
       "                            OLS Regression Results                            \n",
       "==============================================================================\n",
       "Dep. Variable:                      y   R-squared:                       0.800\n",
       "Model:                            OLS   Adj. R-squared:                  0.798\n",
       "Method:                 Least Squares   F-statistic:                     391.4\n",
       "Date:                Sat, 07 Dec 2024   Prob (F-statistic):           5.39e-36\n",
       "Time:                        21:32:34   Log-Likelihood:                 4.1908\n",
       "No. Observations:                 100   AIC:                            -4.382\n",
       "Df Residuals:                      98   BIC:                            0.8288\n",
       "Df Model:                           1                                         \n",
       "Covariance Type:            nonrobust                                         \n",
       "==============================================================================\n",
       "                 coef    std err          t      P>|t|      [0.025      0.975]\n",
       "------------------------------------------------------------------------------\n",
       "intercept     -0.9632      0.023    -40.999      0.000      -1.010      -0.917\n",
       "x              0.5239      0.026     19.783      0.000       0.471       0.576\n",
       "==============================================================================\n",
       "Omnibus:                        0.898   Durbin-Watson:                   2.157\n",
       "Prob(Omnibus):                  0.638   Jarque-Bera (JB):                0.561\n",
       "Skew:                          -0.172   Prob(JB):                        0.755\n",
       "Kurtosis:                       3.127   Cond. No.                         1.15\n",
       "==============================================================================\n",
       "\n",
       "Notes:\n",
       "[1] Standard Errors assume that the covariance matrix of the errors is correctly specified.\n",
       "\"\"\""
      ]
     },
     "execution_count": 49,
     "metadata": {},
     "output_type": "execute_result"
    }
   ],
   "source": [
    "# (e)\n",
    "\n",
    "X = pd.DataFrame({\n",
    "    'intercept': ones(100),\n",
    "    'x': x    \n",
    "})\n",
    "\n",
    "\n",
    "model = sm.OLS(Y, X)\n",
    "results = model.fit()\n",
    "results.summary()\n",
    "\n",
    "# The linear regression fits a model close to the true value.\n",
    "# b0 almost the same: -0.9632 <=> -1, b1 almost the same: 0.5239 <=> 0.5"
   ]
  },
  {
   "cell_type": "code",
   "execution_count": 50,
   "metadata": {},
   "outputs": [
    {
     "name": "stderr",
     "output_type": "stream",
     "text": [
      "C:\\Users\\User\\AppData\\Local\\Temp\\ipykernel_1908\\2897806375.py:20: UserWarning: No artists with labels found to put in legend.  Note that artists whose label start with an underscore are ignored when legend() is called with no argument.\n",
      "  ax.legend();\n"
     ]
    },
    {
     "data": {
      "image/png": "[encoded data removed]",
      "text/plain": [
       "<Figure size 800x800 with 1 Axes>"
      ]
     },
     "metadata": {},
     "output_type": "display_data"
    }
   ],
   "source": [
    "# (f)\n",
    "\n",
    "def abline(ax, b, m): \n",
    "    xlim = ax.get_xlim()\n",
    "    ylim = [m * xlim[0] + b, m * xlim[1] + b]\n",
    "    ax.plot(xlim, ylim)\n",
    "\n",
    "ax = plt.subplots(figsize=(8,8))[1]\n",
    "\n",
    "# from (d)\n",
    "ax.scatter(x, Y, marker='o')\n",
    "\n",
    "# from fitted model: b0 and b1\n",
    "abline(ax, -0.9632, 0.5239)\n",
    "# from the Y equasion (c)\n",
    "abline(ax, -1, 0.5)\n",
    "\n",
    "ax.set_xlabel('x')\n",
    "ax.set_ylabel('y')\n",
    "ax.legend();"
   ]
  },
  {
   "cell_type": "code",
   "execution_count": 51,
   "metadata": {},
   "outputs": [
    {
     "data": {
      "text/html": [
       "<table class=\"simpletable\">\n",
       "<caption>OLS Regression Results</caption>\n",
       "<tr>\n",
       "  <th>Dep. Variable:</th>            <td>y</td>        <th>  R-squared:         </th> <td>   0.800</td>\n",
       "</tr>\n",
       "<tr>\n",
       "  <th>Model:</th>                   <td>OLS</td>       <th>  Adj. R-squared:    </th> <td>   0.796</td>\n",
       "</tr>\n",
       "<tr>\n",
       "  <th>Method:</th>             <td>Least Squares</td>  <th>  F-statistic:       </th> <td>   193.8</td>\n",
       "</tr>\n",
       "<tr>\n",
       "  <th>Date:</th>             <td>Sat, 07 Dec 2024</td> <th>  Prob (F-statistic):</th> <td>1.32e-34</td>\n",
       "</tr>\n",
       "<tr>\n",
       "  <th>Time:</th>                 <td>21:32:35</td>     <th>  Log-Likelihood:    </th> <td>  4.2077</td>\n",
       "</tr>\n",
       "<tr>\n",
       "  <th>No. Observations:</th>      <td>   100</td>      <th>  AIC:               </th> <td>  -2.415</td>\n",
       "</tr>\n",
       "<tr>\n",
       "  <th>Df Residuals:</th>          <td>    97</td>      <th>  BIC:               </th> <td>   5.400</td>\n",
       "</tr>\n",
       "<tr>\n",
       "  <th>Df Model:</th>              <td>     2</td>      <th>                     </th>     <td> </td>   \n",
       "</tr>\n",
       "<tr>\n",
       "  <th>Covariance Type:</th>      <td>nonrobust</td>    <th>                     </th>     <td> </td>   \n",
       "</tr>\n",
       "</table>\n",
       "<table class=\"simpletable\">\n",
       "<tr>\n",
       "      <td></td>         <th>coef</th>     <th>std err</th>      <th>t</th>      <th>P>|t|</th>  <th>[0.025</th>    <th>0.975]</th>  \n",
       "</tr>\n",
       "<tr>\n",
       "  <th>intercept</th> <td>   -0.9663</td> <td>    0.029</td> <td>  -33.486</td> <td> 0.000</td> <td>   -1.024</td> <td>   -0.909</td>\n",
       "</tr>\n",
       "<tr>\n",
       "  <th>x</th>         <td>    0.5234</td> <td>    0.027</td> <td>   19.582</td> <td> 0.000</td> <td>    0.470</td> <td>    0.576</td>\n",
       "</tr>\n",
       "<tr>\n",
       "  <th>x_squared</th> <td>    0.0039</td> <td>    0.021</td> <td>    0.181</td> <td> 0.856</td> <td>   -0.038</td> <td>    0.046</td>\n",
       "</tr>\n",
       "</table>\n",
       "<table class=\"simpletable\">\n",
       "<tr>\n",
       "  <th>Omnibus:</th>       <td> 0.893</td> <th>  Durbin-Watson:     </th> <td>   2.152</td>\n",
       "</tr>\n",
       "<tr>\n",
       "  <th>Prob(Omnibus):</th> <td> 0.640</td> <th>  Jarque-Bera (JB):  </th> <td>   0.552</td>\n",
       "</tr>\n",
       "<tr>\n",
       "  <th>Skew:</th>          <td>-0.170</td> <th>  Prob(JB):          </th> <td>   0.759</td>\n",
       "</tr>\n",
       "<tr>\n",
       "  <th>Kurtosis:</th>      <td> 3.132</td> <th>  Cond. No.          </th> <td>    2.10</td>\n",
       "</tr>\n",
       "</table><br/><br/>Notes:<br/>[1] Standard Errors assume that the covariance matrix of the errors is correctly specified."
      ],
      "text/latex": [
       "\\begin{center}\n",
       "\\begin{tabular}{lclc}\n",
       "\\toprule\n",
       "\\textbf{Dep. Variable:}    &        y         & \\textbf{  R-squared:         } &     0.800   \\\\\n",
       "\\textbf{Model:}            &       OLS        & \\textbf{  Adj. R-squared:    } &     0.796   \\\\\n",
       "\\textbf{Method:}           &  Least Squares   & \\textbf{  F-statistic:       } &     193.8   \\\\\n",
       "\\textbf{Date:}             & Sat, 07 Dec 2024 & \\textbf{  Prob (F-statistic):} &  1.32e-34   \\\\\n",
       "\\textbf{Time:}             &     21:32:35     & \\textbf{  Log-Likelihood:    } &    4.2077   \\\\\n",
       "\\textbf{No. Observations:} &         100      & \\textbf{  AIC:               } &    -2.415   \\\\\n",
       "\\textbf{Df Residuals:}     &          97      & \\textbf{  BIC:               } &     5.400   \\\\\n",
       "\\textbf{Df Model:}         &           2      & \\textbf{                     } &             \\\\\n",
       "\\textbf{Covariance Type:}  &    nonrobust     & \\textbf{                     } &             \\\\\n",
       "\\bottomrule\n",
       "\\end{tabular}\n",
       "\\begin{tabular}{lcccccc}\n",
       "                    & \\textbf{coef} & \\textbf{std err} & \\textbf{t} & \\textbf{P$> |$t$|$} & \\textbf{[0.025} & \\textbf{0.975]}  \\\\\n",
       "\\midrule\n",
       "\\textbf{intercept}  &      -0.9663  &        0.029     &   -33.486  &         0.000        &       -1.024    &       -0.909     \\\\\n",
       "\\textbf{x}          &       0.5234  &        0.027     &    19.582  &         0.000        &        0.470    &        0.576     \\\\\n",
       "\\textbf{x\\_squared} &       0.0039  &        0.021     &     0.181  &         0.856        &       -0.038    &        0.046     \\\\\n",
       "\\bottomrule\n",
       "\\end{tabular}\n",
       "\\begin{tabular}{lclc}\n",
       "\\textbf{Omnibus:}       &  0.893 & \\textbf{  Durbin-Watson:     } &    2.152  \\\\\n",
       "\\textbf{Prob(Omnibus):} &  0.640 & \\textbf{  Jarque-Bera (JB):  } &    0.552  \\\\\n",
       "\\textbf{Skew:}          & -0.170 & \\textbf{  Prob(JB):          } &    0.759  \\\\\n",
       "\\textbf{Kurtosis:}      &  3.132 & \\textbf{  Cond. No.          } &     2.10  \\\\\n",
       "\\bottomrule\n",
       "\\end{tabular}\n",
       "%\\caption{OLS Regression Results}\n",
       "\\end{center}\n",
       "\n",
       "Notes: \\newline\n",
       " [1] Standard Errors assume that the covariance matrix of the errors is correctly specified."
      ],
      "text/plain": [
       "<class 'statsmodels.iolib.summary.Summary'>\n",
       "\"\"\"\n",
       "                            OLS Regression Results                            \n",
       "==============================================================================\n",
       "Dep. Variable:                      y   R-squared:                       0.800\n",
       "Model:                            OLS   Adj. R-squared:                  0.796\n",
       "Method:                 Least Squares   F-statistic:                     193.8\n",
       "Date:                Sat, 07 Dec 2024   Prob (F-statistic):           1.32e-34\n",
       "Time:                        21:32:35   Log-Likelihood:                 4.2077\n",
       "No. Observations:                 100   AIC:                            -2.415\n",
       "Df Residuals:                      97   BIC:                             5.400\n",
       "Df Model:                           2                                         \n",
       "Covariance Type:            nonrobust                                         \n",
       "==============================================================================\n",
       "                 coef    std err          t      P>|t|      [0.025      0.975]\n",
       "------------------------------------------------------------------------------\n",
       "intercept     -0.9663      0.029    -33.486      0.000      -1.024      -0.909\n",
       "x              0.5234      0.027     19.582      0.000       0.470       0.576\n",
       "x_squared      0.0039      0.021      0.181      0.856      -0.038       0.046\n",
       "==============================================================================\n",
       "Omnibus:                        0.893   Durbin-Watson:                   2.152\n",
       "Prob(Omnibus):                  0.640   Jarque-Bera (JB):                0.552\n",
       "Skew:                          -0.170   Prob(JB):                        0.759\n",
       "Kurtosis:                       3.132   Cond. No.                         2.10\n",
       "==============================================================================\n",
       "\n",
       "Notes:\n",
       "[1] Standard Errors assume that the covariance matrix of the errors is correctly specified.\n",
       "\"\"\""
      ]
     },
     "execution_count": 51,
     "metadata": {},
     "output_type": "execute_result"
    }
   ],
   "source": [
    "# (g)\n",
    "\n",
    "X2 = pd.DataFrame({\n",
    "    'intercept': ones(100),\n",
    "    'x': x,\n",
    "    'x_squared': x * x    \n",
    "})\n",
    "\n",
    "\n",
    "model2 = sm.OLS(Y, X2)\n",
    "results2 = model2.fit()\n",
    "results2.summary()\n",
    "\n",
    "# Model fit is good, slightly better than before - R-squared increased.\n",
    "# x_squared has no correlation with Y - hight p-value"
   ]
  },
  {
   "cell_type": "code",
   "execution_count": 52,
   "metadata": {},
   "outputs": [
    {
     "name": "stdout",
     "output_type": "stream",
     "text": [
      "                            OLS Regression Results                            \n",
      "==============================================================================\n",
      "Dep. Variable:                      y   R-squared:                       0.997\n",
      "Model:                            OLS   Adj. R-squared:                  0.997\n",
      "Method:                 Least Squares   F-statistic:                 3.599e+04\n",
      "Date:                Sat, 07 Dec 2024   Prob (F-statistic):          1.46e-127\n",
      "Time:                        21:32:35   Log-Likelihood:                 234.45\n",
      "No. Observations:                 100   AIC:                            -464.9\n",
      "Df Residuals:                      98   BIC:                            -459.7\n",
      "Df Model:                           1                                         \n",
      "Covariance Type:            nonrobust                                         \n",
      "==============================================================================\n",
      "                 coef    std err          t      P>|t|      [0.025      0.975]\n",
      "------------------------------------------------------------------------------\n",
      "intercept     -0.9963      0.002   -424.069      0.000      -1.001      -0.992\n",
      "x              0.5024      0.003    189.718      0.000       0.497       0.508\n",
      "==============================================================================\n",
      "Omnibus:                        0.898   Durbin-Watson:                   2.157\n",
      "Prob(Omnibus):                  0.638   Jarque-Bera (JB):                0.561\n",
      "Skew:                          -0.172   Prob(JB):                        0.755\n",
      "Kurtosis:                       3.127   Cond. No.                         1.15\n",
      "==============================================================================\n",
      "\n",
      "Notes:\n",
      "[1] Standard Errors assume that the covariance matrix of the errors is correctly specified.\n"
     ]
    },
    {
     "data": {
      "image/png": "[encoded data removed]",
      "text/plain": [
       "<Figure size 640x480 with 1 Axes>"
      ]
     },
     "metadata": {},
     "output_type": "display_data"
    }
   ],
   "source": [
    "# (h)\n",
    "\n",
    "\n",
    "def h():\n",
    "    # divide eps by 10\n",
    "    Y2 = -1 + 0.5*x + 0.1*eps\n",
    "\n",
    "    plt.scatter(x, Y2, marker='o')\n",
    "\n",
    "    X_local = pd.DataFrame({\n",
    "        'intercept': ones(100),\n",
    "        'x': x    \n",
    "    })\n",
    "\n",
    "\n",
    "    model_local = sm.OLS(Y2, X_local)\n",
    "    results_local = model_local.fit()\n",
    "    print(results_local.summary()) \n",
    "    # better fit - R-squared = 0.997\n",
    "    return \n",
    "\n",
    "h()"
   ]
  },
  {
   "cell_type": "code",
   "execution_count": 53,
   "metadata": {},
   "outputs": [
    {
     "name": "stdout",
     "output_type": "stream",
     "text": [
      "                            OLS Regression Results                            \n",
      "==============================================================================\n",
      "Dep. Variable:                      y   R-squared:                       0.074\n",
      "Model:                            OLS   Adj. R-squared:                  0.064\n",
      "Method:                 Least Squares   F-statistic:                     7.779\n",
      "Date:                Sat, 07 Dec 2024   Prob (F-statistic):            0.00635\n",
      "Time:                        21:32:35   Log-Likelihood:                -226.07\n",
      "No. Observations:                 100   AIC:                             456.1\n",
      "Df Residuals:                      98   BIC:                             461.3\n",
      "Df Model:                           1                                         \n",
      "Covariance Type:            nonrobust                                         \n",
      "==============================================================================\n",
      "                 coef    std err          t      P>|t|      [0.025      0.975]\n",
      "------------------------------------------------------------------------------\n",
      "intercept     -0.6325      0.235     -2.692      0.008      -1.099      -0.166\n",
      "x              0.7386      0.265      2.789      0.006       0.213       1.264\n",
      "==============================================================================\n",
      "Omnibus:                        0.898   Durbin-Watson:                   2.157\n",
      "Prob(Omnibus):                  0.638   Jarque-Bera (JB):                0.561\n",
      "Skew:                          -0.172   Prob(JB):                        0.755\n",
      "Kurtosis:                       3.127   Cond. No.                         1.15\n",
      "==============================================================================\n",
      "\n",
      "Notes:\n",
      "[1] Standard Errors assume that the covariance matrix of the errors is correctly specified.\n"
     ]
    },
    {
     "data": {
      "image/png": "[encoded data removed]",
      "text/plain": [
       "<Figure size 640x480 with 1 Axes>"
      ]
     },
     "metadata": {},
     "output_type": "display_data"
    }
   ],
   "source": [
    "# (i)\n",
    "\n",
    "def i():\n",
    "    # mulptiply eps by 10\n",
    "    Y2 = -1 + 0.5*x + 10*eps\n",
    "\n",
    "    plt.scatter(x, Y2, marker='o')\n",
    "\n",
    "    X_local = pd.DataFrame({\n",
    "        'intercept': ones(100),\n",
    "        'x': x    \n",
    "    })\n",
    "\n",
    "\n",
    "    model_local = sm.OLS(Y2, X_local)\n",
    "    results_local = model_local.fit()\n",
    "    print(results_local.summary()) \n",
    "    # very bad fit - R-squared eq. 0.074\n",
    "    return \n",
    "\n",
    "i()"
   ]
  },
  {
   "cell_type": "markdown",
   "metadata": {},
   "source": [
    "(j)\n",
    "\n",
    "---\n",
    "original\n",
    "\n",
    "intercept\t    [-1.010\t        -0.917]\n",
    "\n",
    "x\t            [0.471\t        0.576]\n",
    "\n",
    "---\n",
    "no noise\n",
    "\n",
    "intercept     [-1.001      -0.992]\n",
    "\n",
    "x             [ 0.497       0.508]\n",
    "\n",
    "---\n",
    "with noise\n",
    "\n",
    "intercept     [-1.099      -0.166]\n",
    "\n",
    "x             [ 0.213       1.264]\n",
    "\n",
    "\n",
    "---\n",
    "CI for b0 looks the same\n",
    "\n",
    "CI for b1: less the noise - narrower the CI\n"
   ]
  }
 ],
 "metadata": {
  "kernelspec": {
   "display_name": "Python 3",
   "language": "python",
   "name": "python3"
  },
  "language_info": {
   "codemirror_mode": {
    "name": "ipython",
    "version": 3
   },
   "file_extension": ".py",
   "mimetype": "text/x-python",
   "name": "python",
   "nbconvert_exporter": "python",
   "pygments_lexer": "ipython3",
   "version": "3.11.9"
  }
 },
 "nbformat": 4,
 "nbformat_minor": 2
}
