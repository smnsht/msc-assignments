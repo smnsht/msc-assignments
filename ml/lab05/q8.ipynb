{
 "cells": [
  {
   "cell_type": "code",
   "execution_count": 77,
   "metadata": {},
   "outputs": [],
   "source": [
    "import numpy as np\n",
    "import pandas as pd\n",
    "from matplotlib.pyplot import subplots\n",
    "from statsmodels.api import OLS\n",
    "import sklearn.model_selection as skm\n",
    "import sklearn.linear_model as skl\n",
    "from sklearn.preprocessing import StandardScaler\n",
    "from ISLP.models import ModelSpec as MS\n",
    "from ISLP.models import Stepwise, sklearn_selected\n",
    "from sklearn.pipeline import Pipeline\n",
    "\n",
    "from functools import partial\n",
    "\n",
    "import warnings"
   ]
  },
  {
   "cell_type": "markdown",
   "metadata": {},
   "source": [
    "### (a)"
   ]
  },
  {
   "cell_type": "code",
   "execution_count": 78,
   "metadata": {},
   "outputs": [],
   "source": [
    "np.random.seed(42)\n",
    "X = np.random.normal(size=100)\n",
    "Noise = np.random.normal(size=100)"
   ]
  },
  {
   "cell_type": "code",
   "execution_count": 79,
   "metadata": {},
   "outputs": [
    {
     "data": {
      "text/plain": [
       "(array([ 0.49671415, -0.1382643 ,  0.64768854,  1.52302986, -0.23415337,\n",
       "        -0.23413696,  1.57921282,  0.76743473, -0.46947439,  0.54256004,\n",
       "        -0.46341769, -0.46572975,  0.24196227, -1.91328024, -1.72491783,\n",
       "        -0.56228753, -1.01283112,  0.31424733, -0.90802408, -1.4123037 ,\n",
       "         1.46564877, -0.2257763 ,  0.0675282 , -1.42474819, -0.54438272,\n",
       "         0.11092259, -1.15099358,  0.37569802, -0.60063869, -0.29169375,\n",
       "        -0.60170661,  1.85227818, -0.01349722, -1.05771093,  0.82254491,\n",
       "        -1.22084365,  0.2088636 , -1.95967012, -1.32818605,  0.19686124,\n",
       "         0.73846658,  0.17136828, -0.11564828, -0.3011037 , -1.47852199,\n",
       "        -0.71984421, -0.46063877,  1.05712223,  0.34361829, -1.76304016,\n",
       "         0.32408397, -0.38508228, -0.676922  ,  0.61167629,  1.03099952,\n",
       "         0.93128012, -0.83921752, -0.30921238,  0.33126343,  0.97554513,\n",
       "        -0.47917424, -0.18565898, -1.10633497, -1.19620662,  0.81252582,\n",
       "         1.35624003, -0.07201012,  1.0035329 ,  0.36163603, -0.64511975,\n",
       "         0.36139561,  1.53803657, -0.03582604,  1.56464366, -2.6197451 ,\n",
       "         0.8219025 ,  0.08704707, -0.29900735,  0.09176078, -1.98756891,\n",
       "        -0.21967189,  0.35711257,  1.47789404, -0.51827022, -0.8084936 ,\n",
       "        -0.50175704,  0.91540212,  0.32875111, -0.5297602 ,  0.51326743,\n",
       "         0.09707755,  0.96864499, -0.70205309, -0.32766215, -0.39210815,\n",
       "        -1.46351495,  0.29612028,  0.26105527,  0.00511346, -0.23458713]),\n",
       " array([-1.41537074, -0.42064532, -0.34271452, -0.80227727, -0.16128571,\n",
       "         0.40405086,  1.8861859 ,  0.17457781,  0.25755039, -0.07444592,\n",
       "        -1.91877122, -0.02651388,  0.06023021,  2.46324211, -0.19236096,\n",
       "         0.30154734, -0.03471177, -1.16867804,  1.14282281,  0.75193303,\n",
       "         0.79103195, -0.90938745,  1.40279431, -1.40185106,  0.58685709,\n",
       "         2.19045563, -0.99053633, -0.56629773,  0.09965137, -0.50347565,\n",
       "        -1.55066343,  0.06856297, -1.06230371,  0.47359243, -0.91942423,\n",
       "         1.54993441, -0.78325329, -0.32206152,  0.81351722, -1.23086432,\n",
       "         0.22745993,  1.30714275, -1.60748323,  0.18463386,  0.25988279,\n",
       "         0.78182287, -1.23695071, -1.32045661,  0.52194157,  0.29698467,\n",
       "         0.25049285,  0.34644821, -0.68002472,  0.2322537 ,  0.29307247,\n",
       "        -0.71435142,  1.86577451,  0.47383292, -1.1913035 ,  0.65655361,\n",
       "        -0.97468167,  0.7870846 ,  1.15859558, -0.82068232,  0.96337613,\n",
       "         0.41278093,  0.82206016,  1.89679298, -0.24538812, -0.75373616,\n",
       "        -0.88951443, -0.81581028, -0.07710171,  0.34115197,  0.2766908 ,\n",
       "         0.82718325,  0.01300189,  1.45353408, -0.26465683,  2.72016917,\n",
       "         0.62566735, -0.85715756, -1.0708925 ,  0.48247242, -0.22346279,\n",
       "         0.71400049,  0.47323762, -0.07282891, -0.84679372, -1.51484722,\n",
       "        -0.44651495,  0.85639879,  0.21409374, -1.24573878,  0.17318093,\n",
       "         0.38531738, -0.88385744,  0.15372511,  0.05820872, -1.1429703 ]))"
      ]
     },
     "execution_count": 79,
     "metadata": {},
     "output_type": "execute_result"
    }
   ],
   "source": [
    "X, Noise"
   ]
  },
  {
   "cell_type": "markdown",
   "metadata": {},
   "source": [
    "### (b)"
   ]
  },
  {
   "cell_type": "code",
   "execution_count": 80,
   "metadata": {},
   "outputs": [],
   "source": [
    "b0, b1, b2, b3 = np.random.random(size=4)\n",
    "\n",
    "y = Noise + b0 + b1*X + b2*(X**2) + b3*(X**3)"
   ]
  },
  {
   "cell_type": "code",
   "execution_count": 81,
   "metadata": {},
   "outputs": [
    {
     "data": {
      "text/plain": [
       "array([ 8.80144312e-02,  3.65773949e-01,  1.49771319e+00,  5.30189134e+00,\n",
       "        5.71831159e-01,  1.13717643e+00,  8.43836402e+00,  2.34846660e+00,\n",
       "        8.68088575e-01,  1.52221677e+00, -1.30490756e+00,  5.86082797e-01,\n",
       "        1.16759993e+00, -4.45239152e-01, -2.12419564e+00,  8.57883569e-01,\n",
       "        7.75317675e-02,  3.21106058e-02,  1.39632424e+00, -5.50136516e-03,\n",
       "        6.46308945e+00, -1.71816889e-01,  2.33358491e+00, -2.19666838e+00,\n",
       "        1.15419972e+00,  3.15953136e+00, -1.11354841e+00,  7.25016029e-01,\n",
       "        6.31328667e-01,  1.99690760e-01, -1.01969562e+00,  9.17377895e+00,\n",
       "       -1.94803711e-01,  5.15973366e-01,  1.42979602e+00,  1.28356590e+00,\n",
       "        2.85646651e-01, -3.50630512e+00,  2.90664917e-01, -1.75290818e-01,\n",
       "        2.31486893e+00,  2.33546471e+00, -8.07543087e-01,  8.82975424e-01,\n",
       "       -7.04782764e-01,  1.22510394e+00, -6.21568193e-01,  1.94879357e+00,\n",
       "        1.76465673e+00, -1.81477210e+00,  1.46505664e+00,  1.00180963e+00,\n",
       "       -2.02602870e-01,  1.98429300e+00,  3.44493772e+00,  2.02477893e+00,\n",
       "        2.19717739e+00,  1.16802585e+00,  3.34827141e-02,  3.57211829e+00,\n",
       "       -3.69514335e-01,  1.54645738e+00,  1.11830789e+00, -1.03447155e+00,\n",
       "        3.27964358e+00,  5.32934788e+00,  1.64944243e+00,  4.92945698e+00,\n",
       "        1.02425369e+00, -2.52770772e-01,  3.79761902e-01,  5.40557864e+00,\n",
       "        7.74594878e-01,  6.77474369e+00, -8.63319527e+00,  3.17427602e+00,\n",
       "        9.60601461e-01,  2.15294944e+00,  6.87101403e-01, -6.37005397e-01,\n",
       "        1.36650276e+00,  4.05636067e-01,  4.69125921e+00,  1.06535597e+00,\n",
       "        1.39366415e-01,  1.30642898e+00,  3.15163928e+00,  1.14836387e+00,\n",
       "       -2.70677620e-01,  2.13502447e-02,  5.09981511e-01,  3.74375997e+00,\n",
       "        6.71873626e-01, -5.60966624e-01,  8.24907852e-01, -5.30568265e-01,\n",
       "        2.92232292e-01,  1.28447906e+00,  9.39387998e-01, -4.10083237e-01])"
      ]
     },
     "execution_count": 81,
     "metadata": {},
     "output_type": "execute_result"
    }
   ],
   "source": [
    "y"
   ]
  },
  {
   "cell_type": "markdown",
   "metadata": {},
   "source": [
    "### (c)"
   ]
  },
  {
   "cell_type": "code",
   "execution_count": 82,
   "metadata": {},
   "outputs": [
    {
     "data": {
      "text/html": [
       "<div>\n",
       "<style scoped>\n",
       "    .dataframe tbody tr th:only-of-type {\n",
       "        vertical-align: middle;\n",
       "    }\n",
       "\n",
       "    .dataframe tbody tr th {\n",
       "        vertical-align: top;\n",
       "    }\n",
       "\n",
       "    .dataframe thead th {\n",
       "        text-align: right;\n",
       "    }\n",
       "</style>\n",
       "<table border=\"1\" class=\"dataframe\">\n",
       "  <thead>\n",
       "    <tr style=\"text-align: right;\">\n",
       "      <th></th>\n",
       "      <th>X</th>\n",
       "      <th>X2</th>\n",
       "      <th>X3</th>\n",
       "      <th>X4</th>\n",
       "      <th>X5</th>\n",
       "      <th>X6</th>\n",
       "      <th>X7</th>\n",
       "      <th>X8</th>\n",
       "      <th>X9</th>\n",
       "      <th>X10</th>\n",
       "    </tr>\n",
       "  </thead>\n",
       "  <tbody>\n",
       "    <tr>\n",
       "      <th>0</th>\n",
       "      <td>0.496714</td>\n",
       "      <td>0.246725</td>\n",
       "      <td>1.225518e-01</td>\n",
       "      <td>6.087320e-02</td>\n",
       "      <td>3.023658e-02</td>\n",
       "      <td>1.501894e-02</td>\n",
       "      <td>7.460119e-03</td>\n",
       "      <td>3.705547e-03</td>\n",
       "      <td>1.840597e-03</td>\n",
       "      <td>9.142508e-04</td>\n",
       "    </tr>\n",
       "    <tr>\n",
       "      <th>1</th>\n",
       "      <td>-0.138264</td>\n",
       "      <td>0.019117</td>\n",
       "      <td>-2.643201e-03</td>\n",
       "      <td>3.654603e-04</td>\n",
       "      <td>-5.053012e-05</td>\n",
       "      <td>6.986511e-06</td>\n",
       "      <td>-9.659851e-07</td>\n",
       "      <td>1.335613e-07</td>\n",
       "      <td>-1.846675e-08</td>\n",
       "      <td>2.553293e-09</td>\n",
       "    </tr>\n",
       "    <tr>\n",
       "      <th>2</th>\n",
       "      <td>0.647689</td>\n",
       "      <td>0.419500</td>\n",
       "      <td>2.717056e-01</td>\n",
       "      <td>1.759806e-01</td>\n",
       "      <td>1.139806e-01</td>\n",
       "      <td>7.382395e-02</td>\n",
       "      <td>4.781493e-02</td>\n",
       "      <td>3.096918e-02</td>\n",
       "      <td>2.005838e-02</td>\n",
       "      <td>1.299158e-02</td>\n",
       "    </tr>\n",
       "    <tr>\n",
       "      <th>3</th>\n",
       "      <td>1.523030</td>\n",
       "      <td>2.319620</td>\n",
       "      <td>3.532850e+00</td>\n",
       "      <td>5.380637e+00</td>\n",
       "      <td>8.194870e+00</td>\n",
       "      <td>1.248103e+01</td>\n",
       "      <td>1.900898e+01</td>\n",
       "      <td>2.895125e+01</td>\n",
       "      <td>4.409362e+01</td>\n",
       "      <td>6.715590e+01</td>\n",
       "    </tr>\n",
       "    <tr>\n",
       "      <th>4</th>\n",
       "      <td>-0.234153</td>\n",
       "      <td>0.054828</td>\n",
       "      <td>-1.283812e-02</td>\n",
       "      <td>3.006088e-03</td>\n",
       "      <td>-7.038856e-04</td>\n",
       "      <td>1.648172e-04</td>\n",
       "      <td>-3.859250e-05</td>\n",
       "      <td>9.036565e-06</td>\n",
       "      <td>-2.115942e-06</td>\n",
       "      <td>4.954550e-07</td>\n",
       "    </tr>\n",
       "    <tr>\n",
       "      <th>...</th>\n",
       "      <td>...</td>\n",
       "      <td>...</td>\n",
       "      <td>...</td>\n",
       "      <td>...</td>\n",
       "      <td>...</td>\n",
       "      <td>...</td>\n",
       "      <td>...</td>\n",
       "      <td>...</td>\n",
       "      <td>...</td>\n",
       "      <td>...</td>\n",
       "    </tr>\n",
       "    <tr>\n",
       "      <th>95</th>\n",
       "      <td>-1.463515</td>\n",
       "      <td>2.141876</td>\n",
       "      <td>-3.134668e+00</td>\n",
       "      <td>4.587633e+00</td>\n",
       "      <td>-6.714069e+00</td>\n",
       "      <td>9.826141e+00</td>\n",
       "      <td>-1.438070e+01</td>\n",
       "      <td>2.104637e+01</td>\n",
       "      <td>-3.080168e+01</td>\n",
       "      <td>4.507873e+01</td>\n",
       "    </tr>\n",
       "    <tr>\n",
       "      <th>96</th>\n",
       "      <td>0.296120</td>\n",
       "      <td>0.087687</td>\n",
       "      <td>2.596596e-02</td>\n",
       "      <td>7.689048e-03</td>\n",
       "      <td>2.276883e-03</td>\n",
       "      <td>6.742313e-04</td>\n",
       "      <td>1.996535e-04</td>\n",
       "      <td>5.912146e-05</td>\n",
       "      <td>1.750706e-05</td>\n",
       "      <td>5.184197e-06</td>\n",
       "    </tr>\n",
       "    <tr>\n",
       "      <th>97</th>\n",
       "      <td>0.261055</td>\n",
       "      <td>0.068150</td>\n",
       "      <td>1.779088e-02</td>\n",
       "      <td>4.644403e-03</td>\n",
       "      <td>1.212446e-03</td>\n",
       "      <td>3.165154e-04</td>\n",
       "      <td>8.262801e-05</td>\n",
       "      <td>2.157048e-05</td>\n",
       "      <td>5.631087e-06</td>\n",
       "      <td>1.470025e-06</td>\n",
       "    </tr>\n",
       "    <tr>\n",
       "      <th>98</th>\n",
       "      <td>0.005113</td>\n",
       "      <td>0.000026</td>\n",
       "      <td>1.337038e-07</td>\n",
       "      <td>6.836886e-10</td>\n",
       "      <td>3.496012e-12</td>\n",
       "      <td>1.787670e-14</td>\n",
       "      <td>9.141175e-17</td>\n",
       "      <td>4.674300e-19</td>\n",
       "      <td>2.390183e-21</td>\n",
       "      <td>1.222210e-23</td>\n",
       "    </tr>\n",
       "    <tr>\n",
       "      <th>99</th>\n",
       "      <td>-0.234587</td>\n",
       "      <td>0.055031</td>\n",
       "      <td>-1.290959e-02</td>\n",
       "      <td>3.028425e-03</td>\n",
       "      <td>-7.104294e-04</td>\n",
       "      <td>1.666576e-04</td>\n",
       "      <td>-3.909573e-05</td>\n",
       "      <td>9.171355e-06</td>\n",
       "      <td>-2.151482e-06</td>\n",
       "      <td>5.047100e-07</td>\n",
       "    </tr>\n",
       "  </tbody>\n",
       "</table>\n",
       "<p>100 rows × 10 columns</p>\n",
       "</div>"
      ],
      "text/plain": [
       "           X        X2            X3            X4            X5  \\\n",
       "0   0.496714  0.246725  1.225518e-01  6.087320e-02  3.023658e-02   \n",
       "1  -0.138264  0.019117 -2.643201e-03  3.654603e-04 -5.053012e-05   \n",
       "2   0.647689  0.419500  2.717056e-01  1.759806e-01  1.139806e-01   \n",
       "3   1.523030  2.319620  3.532850e+00  5.380637e+00  8.194870e+00   \n",
       "4  -0.234153  0.054828 -1.283812e-02  3.006088e-03 -7.038856e-04   \n",
       "..       ...       ...           ...           ...           ...   \n",
       "95 -1.463515  2.141876 -3.134668e+00  4.587633e+00 -6.714069e+00   \n",
       "96  0.296120  0.087687  2.596596e-02  7.689048e-03  2.276883e-03   \n",
       "97  0.261055  0.068150  1.779088e-02  4.644403e-03  1.212446e-03   \n",
       "98  0.005113  0.000026  1.337038e-07  6.836886e-10  3.496012e-12   \n",
       "99 -0.234587  0.055031 -1.290959e-02  3.028425e-03 -7.104294e-04   \n",
       "\n",
       "              X6            X7            X8            X9           X10  \n",
       "0   1.501894e-02  7.460119e-03  3.705547e-03  1.840597e-03  9.142508e-04  \n",
       "1   6.986511e-06 -9.659851e-07  1.335613e-07 -1.846675e-08  2.553293e-09  \n",
       "2   7.382395e-02  4.781493e-02  3.096918e-02  2.005838e-02  1.299158e-02  \n",
       "3   1.248103e+01  1.900898e+01  2.895125e+01  4.409362e+01  6.715590e+01  \n",
       "4   1.648172e-04 -3.859250e-05  9.036565e-06 -2.115942e-06  4.954550e-07  \n",
       "..           ...           ...           ...           ...           ...  \n",
       "95  9.826141e+00 -1.438070e+01  2.104637e+01 -3.080168e+01  4.507873e+01  \n",
       "96  6.742313e-04  1.996535e-04  5.912146e-05  1.750706e-05  5.184197e-06  \n",
       "97  3.165154e-04  8.262801e-05  2.157048e-05  5.631087e-06  1.470025e-06  \n",
       "98  1.787670e-14  9.141175e-17  4.674300e-19  2.390183e-21  1.222210e-23  \n",
       "99  1.666576e-04 -3.909573e-05  9.171355e-06 -2.151482e-06  5.047100e-07  \n",
       "\n",
       "[100 rows x 10 columns]"
      ]
     },
     "execution_count": 82,
     "metadata": {},
     "output_type": "execute_result"
    }
   ],
   "source": [
    "X_10 = pd.DataFrame({\n",
    "    'X': X,\n",
    "    'X2': X**2,\n",
    "    'X3': X**3,\n",
    "    'X4': X**4,\n",
    "    'X5': X**5,\n",
    "    'X6': X**6,\n",
    "    'X7': X**7,\n",
    "    'X8': X**8,\n",
    "    'X9': X**9,\n",
    "    'X10': X**10,\n",
    "})\n",
    "\n",
    "X_10"
   ]
  },
  {
   "cell_type": "code",
   "execution_count": 83,
   "metadata": {},
   "outputs": [],
   "source": [
    "def nCp(sigma2, estimator, X, Y):\n",
    "    \"Negative Cp statistic\"\n",
    "    n, p = X.shape\n",
    "    Yhat = estimator.predict(X)\n",
    "    RSS = np.sum((Y - Yhat)**2)\n",
    "    return -(RSS + 2 * p * sigma2) / n "
   ]
  },
  {
   "cell_type": "code",
   "execution_count": 84,
   "metadata": {},
   "outputs": [
    {
     "data": {
      "text/plain": [
       "0.8737538686644166"
      ]
     },
     "execution_count": 84,
     "metadata": {},
     "output_type": "execute_result"
    }
   ],
   "source": [
    "design = MS(X_10).fit(X_10)\n",
    "X_10_scaled = design.transform(X_10)\n",
    "sigma2 = OLS(y, X_10_scaled).fit().scale\n",
    "sigma2"
   ]
  },
  {
   "cell_type": "code",
   "execution_count": 85,
   "metadata": {},
   "outputs": [],
   "source": [
    "neg_Cp = partial(nCp, sigma2)"
   ]
  },
  {
   "cell_type": "code",
   "execution_count": 86,
   "metadata": {},
   "outputs": [],
   "source": [
    "strategy = Stepwise.first_peak(design, direction=\"forward\", max_terms=len(design.terms))\n",
    "X_10_Cp = sklearn_selected(OLS, strategy, scoring=neg_Cp)\n",
    "X_10_Cp.fit(X_10, y)"
   ]
  },
  {
   "cell_type": "markdown",
   "metadata": {},
   "source": [
    "#### What is the model obtained according to Cp?"
   ]
  },
  {
   "cell_type": "code",
   "execution_count": 87,
   "metadata": {},
   "outputs": [
    {
     "data": {
      "text/plain": [
       "('X', 'X2', 'X3')"
      ]
     },
     "execution_count": 87,
     "metadata": {},
     "output_type": "execute_result"
    }
   ],
   "source": [
    "X_10_Cp.selected_state_"
   ]
  },
  {
   "cell_type": "markdown",
   "metadata": {},
   "source": [
    "#### Report the coefficients of the model obtained."
   ]
  },
  {
   "cell_type": "code",
   "execution_count": 88,
   "metadata": {},
   "outputs": [
    {
     "data": {
      "text/plain": [
       "intercept    0.725300\n",
       "X            0.605061\n",
       "X2           0.903953\n",
       "X3           0.730851\n",
       "dtype: float64"
      ]
     },
     "execution_count": 88,
     "metadata": {},
     "output_type": "execute_result"
    }
   ],
   "source": [
    "X_10_Cp.model_.fit().params"
   ]
  },
  {
   "cell_type": "markdown",
   "metadata": {},
   "source": [
    "### (d)"
   ]
  },
  {
   "cell_type": "code",
   "execution_count": 89,
   "metadata": {},
   "outputs": [
    {
     "data": {
      "text/plain": [
       "('X', 'X2', 'X3')"
      ]
     },
     "execution_count": 89,
     "metadata": {},
     "output_type": "execute_result"
    }
   ],
   "source": [
    "strategy_backward = Stepwise.first_peak(design, direction=\"backwards\", max_terms=len(design.terms))\n",
    "X_10_Cp_back = sklearn_selected(OLS, strategy_backward, scoring=neg_Cp)\n",
    "X_10_Cp_back.fit(X_10, y)\n",
    "X_10_Cp_back.selected_state_"
   ]
  },
  {
   "cell_type": "markdown",
   "metadata": {},
   "source": [
    "### (e)"
   ]
  },
  {
   "cell_type": "code",
   "execution_count": 90,
   "metadata": {},
   "outputs": [
    {
     "data": {
      "text/plain": [
       "0.014910223480628461"
      ]
     },
     "execution_count": 90,
     "metadata": {},
     "output_type": "execute_result"
    }
   ],
   "source": [
    "K = 5\n",
    "\n",
    "\n",
    "kfold = skm.KFold(K, random_state=0, shuffle=True)\n",
    "scaler = StandardScaler(with_mean=True,  with_std=True)\n",
    "lassoCV = skl.ElasticNetCV(n_alphas=100, l1_ratio=1, cv=kfold)\n",
    "pipeCV = Pipeline(steps=[(\"scaler\", scaler), (\"lasso\", lassoCV)])\n",
    "warnings.filterwarnings(action=\"ignore\")\n",
    "pipeCV.fit(X_10, y)\n",
    "warnings.filterwarnings(action=\"default\")\n",
    "tuned_lasso = pipeCV.named_steps[\"lasso\"]\n",
    "tuned_lasso.alpha_"
   ]
  },
  {
   "cell_type": "code",
   "execution_count": 91,
   "metadata": {},
   "outputs": [
    {
     "name": "stderr",
     "output_type": "stream",
     "text": [
      "<>:8: DeprecationWarning: invalid escape sequence '\\l'\n",
      "<>:8: DeprecationWarning: invalid escape sequence '\\l'\n",
      "C:\\Users\\User\\AppData\\Local\\Temp\\ipykernel_18396\\2701897966.py:8: DeprecationWarning: invalid escape sequence '\\l'\n",
      "  ax.set_xlabel(\"$-\\log(\\lambda)$\", fontsize=20)\n"
     ]
    },
    {
     "data": {
      "image/png": "[encoded data removed]",
      "text/plain": [
       "<Figure size 800x800 with 1 Axes>"
      ]
     },
     "metadata": {},
     "output_type": "display_data"
    }
   ],
   "source": [
    "lassoCV_fig, ax = subplots(figsize=(8, 8))\n",
    "ax.errorbar(\n",
    "    -np.log(tuned_lasso.alphas_),\n",
    "    tuned_lasso.mse_path_.mean(1),\n",
    "    yerr=tuned_lasso.mse_path_.std(1) / np.sqrt(K),\n",
    ")\n",
    "ax.axvline(-np.log(tuned_lasso.alpha_), c=\"w\", ls=\"--\")\n",
    "ax.set_xlabel(\"$-\\log(\\lambda)$\", fontsize=20)\n",
    "ax.set_ylabel(\"Cross-validated MSE\", fontsize=20);"
   ]
  },
  {
   "cell_type": "markdown",
   "metadata": {},
   "source": [
    "As expected, best alpha is 0.014910223480628461 (tuned_lasso.alpha_)\n",
    "\n",
    "We wrawing vertical line at this point - lowest MSE\n",
    "\n",
    "np.log(0.014910223480628461) = -4.205708161677412\n",
    "\n"
   ]
  },
  {
   "cell_type": "markdown",
   "metadata": {},
   "source": [
    "### (f)"
   ]
  },
  {
   "cell_type": "code",
   "execution_count": 92,
   "metadata": {},
   "outputs": [
    {
     "data": {
      "text/plain": [
       "('X', 'X2', 'X3')"
      ]
     },
     "execution_count": 92,
     "metadata": {},
     "output_type": "execute_result"
    }
   ],
   "source": [
    "b7 = np.random.random()\n",
    "y = Noise + b0 + b7*(X**7)\n",
    "sigma2_2 = OLS(y, X_10_scaled).fit().scale\n",
    "neg_Cp = partial(nCp, sigma2_2)\n",
    "strategy = Stepwise.first_peak(design, direction=\"forward\", max_terms=len(design.terms))\n",
    "X_10_Cp = sklearn_selected(OLS, strategy, scoring=neg_Cp)\n",
    "X_10_Cp.fit(X_10, y)\n",
    "X_10_Cp_back.selected_state_"
   ]
  },
  {
   "cell_type": "markdown",
   "metadata": {},
   "source": [
    "### forward stepwise selection yields the same predictors (result above)"
   ]
  },
  {
   "cell_type": "code",
   "execution_count": 93,
   "metadata": {},
   "outputs": [
    {
     "data": {
      "text/plain": [
       "0.08547105151590131"
      ]
     },
     "execution_count": 93,
     "metadata": {},
     "output_type": "execute_result"
    }
   ],
   "source": [
    "warnings.filterwarnings(action=\"ignore\")\n",
    "pipeCV.fit(X_10, y)\n",
    "warnings.filterwarnings(action=\"default\")\n",
    "tuned_lasso = pipeCV.named_steps[\"lasso\"]\n",
    "tuned_lasso.alpha_"
   ]
  },
  {
   "cell_type": "markdown",
   "metadata": {},
   "source": [
    "#### alpha changed"
   ]
  },
  {
   "cell_type": "code",
   "execution_count": 94,
   "metadata": {},
   "outputs": [
    {
     "data": {
      "text/plain": [
       "Text(0, 0.5, 'Cross-validated MSE')"
      ]
     },
     "execution_count": 94,
     "metadata": {},
     "output_type": "execute_result"
    },
    {
     "data": {
      "image/png": "[encoded data removed]",
      "text/plain": [
       "<Figure size 800x800 with 1 Axes>"
      ]
     },
     "metadata": {},
     "output_type": "display_data"
    }
   ],
   "source": [
    "lassoCV_fig, ax = subplots(figsize=(8, 8))\n",
    "ax.errorbar(\n",
    "    -np.log(tuned_lasso.alphas_),\n",
    "    tuned_lasso.mse_path_.mean(1),\n",
    "    yerr=tuned_lasso.mse_path_.std(1) / np.sqrt(K),\n",
    ")\n",
    "ax.axvline(-np.log(tuned_lasso.alpha_), c=\"w\", ls=\"--\")\n",
    "ax.set_xlabel(\"$-log alpha\", fontsize=20)\n",
    "ax.set_ylabel(\"Cross-validated MSE\", fontsize=20)"
   ]
  }
 ],
 "metadata": {
  "kernelspec": {
   "display_name": ".venv",
   "language": "python",
   "name": "python3"
  },
  "language_info": {
   "codemirror_mode": {
    "name": "ipython",
    "version": 3
   },
   "file_extension": ".py",
   "mimetype": "text/x-python",
   "name": "python",
   "nbconvert_exporter": "python",
   "pygments_lexer": "ipython3",
   "version": "3.11.9"
  }
 },
 "nbformat": 4,
 "nbformat_minor": 2
}
